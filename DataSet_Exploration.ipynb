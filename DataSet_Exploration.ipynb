{
  "nbformat": 4,
  "nbformat_minor": 0,
  "metadata": {
    "colab": {
      "name": "DataSet Exploration",
      "provenance": [],
      "collapsed_sections": [],
      "mount_file_id": "1JDMLW0q0xvSV_KzbHMA1akxhZopCB4pD",
      "authorship_tag": "ABX9TyOKRj9m9H1m0jzU6Ot2Qs9w",
      "include_colab_link": true
    },
    "kernelspec": {
      "name": "python3",
      "display_name": "Python 3"
    },
    "language_info": {
      "name": "python"
    }
  },
  "cells": [
    {
      "cell_type": "markdown",
      "metadata": {
        "id": "view-in-github",
        "colab_type": "text"
      },
      "source": [
        "<a href=\"https://colab.research.google.com/github/JehadOumer/Arabic-Fake-News-Detection-A-Comparative-Multimodal-Analysis/blob/main/DataSet_Exploration.ipynb\" target=\"_parent\"><img src=\"https://colab.research.google.com/assets/colab-badge.svg\" alt=\"Open In Colab\"/></a>"
      ]
    },
    {
      "cell_type": "markdown",
      "source": [
        "# AraFacts"
      ],
      "metadata": {
        "id": "on_b2rPQBsKJ"
      }
    },
    {
      "cell_type": "code",
      "execution_count": null,
      "metadata": {
        "colab": {
          "base_uri": "https://localhost:8080/"
        },
        "id": "Z4sJBsHVeKLS",
        "outputId": "3addef1f-174c-41a5-f94c-9f1f4b392f18"
      },
      "outputs": [
        {
          "output_type": "stream",
          "name": "stdout",
          "text": [
            "Drive already mounted at /content/drive; to attempt to forcibly remount, call drive.mount(\"/content/drive\", force_remount=True).\n"
          ]
        }
      ],
      "source": [
        "import matplotlib.pyplot as plt\n",
        "import tensorflow_datasets as tfds\n",
        "import pandas as pd\n",
        "import numpy as np\n",
        "import seaborn as sns\n",
        "import re\n",
        "from wordcloud import WordCloud\n",
        "from google.colab import drive\n",
        "from sklearn.feature_extraction.text import CountVectorizer, TfidfTransformer, TfidfVectorizer\n",
        "drive.mount('/content/drive')"
      ]
    },
    {
      "cell_type": "code",
      "source": [
        "# Importing the dataset\n",
        "full_dataset = pd.read_csv('/content/drive/MyDrive/AraFacts-master/Dataset/AraFacts.csv')"
      ],
      "metadata": {
        "id": "a1Y6jBXLfLgq"
      },
      "execution_count": null,
      "outputs": []
    },
    {
      "cell_type": "code",
      "source": [
        "print(\"Number of data points: \", len(full_dataset))\n",
        "full_dataset.head(5)"
      ],
      "metadata": {
        "colab": {
          "base_uri": "https://localhost:8080/",
          "height": 687
        },
        "id": "Au8N2kr6f8q4",
        "outputId": "41bab993-eebf-424e-e64f-6f735b7330c0"
      },
      "execution_count": null,
      "outputs": [
        {
          "output_type": "stream",
          "name": "stdout",
          "text": [
            "Number of data points:  6222\n"
          ]
        },
        {
          "output_type": "execute_result",
          "data": {
            "text/html": [
              "\n",
              "  <div id=\"df-6b5e82df-392f-474c-a250-05f5ceeb602d\">\n",
              "    <div class=\"colab-df-container\">\n",
              "      <div>\n",
              "<style scoped>\n",
              "    .dataframe tbody tr th:only-of-type {\n",
              "        vertical-align: middle;\n",
              "    }\n",
              "\n",
              "    .dataframe tbody tr th {\n",
              "        vertical-align: top;\n",
              "    }\n",
              "\n",
              "    .dataframe thead th {\n",
              "        text-align: right;\n",
              "    }\n",
              "</style>\n",
              "<table border=\"1\" class=\"dataframe\">\n",
              "  <thead>\n",
              "    <tr style=\"text-align: right;\">\n",
              "      <th></th>\n",
              "      <th>ClaimID</th>\n",
              "      <th>claim</th>\n",
              "      <th>description</th>\n",
              "      <th>source</th>\n",
              "      <th>date</th>\n",
              "      <th>source_label</th>\n",
              "      <th>normalized_label</th>\n",
              "      <th>source_category</th>\n",
              "      <th>normalized_category</th>\n",
              "      <th>source_url</th>\n",
              "      <th>claim_urls</th>\n",
              "      <th>evidence_urls</th>\n",
              "      <th>claim_type</th>\n",
              "    </tr>\n",
              "  </thead>\n",
              "  <tbody>\n",
              "    <tr>\n",
              "      <th>0</th>\n",
              "      <td>MIS_2952</td>\n",
              "      <td>الشركة المالكة للعبة ببجي (PUBG) أعلنت يوم 26 ...</td>\n",
              "      <td>تداول حساب على موقع التواصل الاجتماعي تيك توك،...</td>\n",
              "      <td>Misbar</td>\n",
              "      <td>2021-03-01</td>\n",
              "      <td>زائف</td>\n",
              "      <td>False</td>\n",
              "      <td>ترفيه</td>\n",
              "      <td>Other</td>\n",
              "      <td>https://misbar.com/factcheck/2021/03/01/لم-تعل...</td>\n",
              "      <td>('https://www.youtube.com/watch?v=XQoJtu0VcnU',)</td>\n",
              "      <td>('https://twitter.com/PUBG/status/136483276092...</td>\n",
              "      <td>0</td>\n",
              "    </tr>\n",
              "    <tr>\n",
              "      <th>1</th>\n",
              "      <td>MIS_2951</td>\n",
              "      <td>تصريح لمبابي يقول فيه \"أريد أن أصبح مثل رونالد...</td>\n",
              "      <td>تتناقل صفحات وحسابات على مواقع التواصل الاجتما...</td>\n",
              "      <td>Misbar</td>\n",
              "      <td>2021-03-01</td>\n",
              "      <td>مضلل</td>\n",
              "      <td>Partly-false</td>\n",
              "      <td>رياضة</td>\n",
              "      <td>Other</td>\n",
              "      <td>https://misbar.com/factcheck/2021/03/01/تغطية-...</td>\n",
              "      <td>('https://www.facebook.com/Al3mla2qalktalony/p...</td>\n",
              "      <td>('https://www.businessinsider.com/kylian-mbapp...</td>\n",
              "      <td>0</td>\n",
              "    </tr>\n",
              "    <tr>\n",
              "      <th>2</th>\n",
              "      <td>FAT_1503</td>\n",
              "      <td>وفاة الفنان يوسف شعبان</td>\n",
              "      <td>انتشر على مواقع التواصل الاجتماعي خبر مفاده ...</td>\n",
              "      <td>Fatabyyano</td>\n",
              "      <td>2021-02-28 21:12:12+00:00</td>\n",
              "      <td>correct</td>\n",
              "      <td>True</td>\n",
              "      <td>اجتماعي</td>\n",
              "      <td>Social</td>\n",
              "      <td>https://fatabyyano.net/وفاة-الفنان-يوسف-شعبان-...</td>\n",
              "      <td>()</td>\n",
              "      <td>()</td>\n",
              "      <td>0</td>\n",
              "    </tr>\n",
              "    <tr>\n",
              "      <th>3</th>\n",
              "      <td>MIS_2946</td>\n",
              "      <td>إضاءة شلالات نياغارا في كندا بألوان العلم الكو...</td>\n",
              "      <td>تتداول حسابات وصفحات، على موقع التواصل الاجتما...</td>\n",
              "      <td>Misbar</td>\n",
              "      <td>2021-02-28</td>\n",
              "      <td>مضلل</td>\n",
              "      <td>Partly-false</td>\n",
              "      <td>أخبار</td>\n",
              "      <td>Miscellaneous news</td>\n",
              "      <td>https://misbar.com/factcheck/2021/02/28/الفيدي...</td>\n",
              "      <td>('https://twitter.com/KuwaitNews/status/136543...</td>\n",
              "      <td>('https://www.hindustantimes.com/india-news/ca...</td>\n",
              "      <td>2</td>\n",
              "    </tr>\n",
              "    <tr>\n",
              "      <th>4</th>\n",
              "      <td>MIS_2942</td>\n",
              "      <td>صورة لأصغر زوجين في الجزائر، تحديدًا من بلدة ت...</td>\n",
              "      <td>تتداول صفحات وحسابات على مواقع التواصل الاجتما...</td>\n",
              "      <td>Misbar</td>\n",
              "      <td>2021-02-28</td>\n",
              "      <td>مضلل</td>\n",
              "      <td>Partly-false</td>\n",
              "      <td>أخبار</td>\n",
              "      <td>Miscellaneous news</td>\n",
              "      <td>https://misbar.com/factcheck/2021/02/28/الصورة...</td>\n",
              "      <td>('https://web.facebook.com/news.djelfa17/posts...</td>\n",
              "      <td>('https://web.facebook.com/265332067662712/vid...</td>\n",
              "      <td>1</td>\n",
              "    </tr>\n",
              "  </tbody>\n",
              "</table>\n",
              "</div>\n",
              "      <button class=\"colab-df-convert\" onclick=\"convertToInteractive('df-6b5e82df-392f-474c-a250-05f5ceeb602d')\"\n",
              "              title=\"Convert this dataframe to an interactive table.\"\n",
              "              style=\"display:none;\">\n",
              "        \n",
              "  <svg xmlns=\"http://www.w3.org/2000/svg\" height=\"24px\"viewBox=\"0 0 24 24\"\n",
              "       width=\"24px\">\n",
              "    <path d=\"M0 0h24v24H0V0z\" fill=\"none\"/>\n",
              "    <path d=\"M18.56 5.44l.94 2.06.94-2.06 2.06-.94-2.06-.94-.94-2.06-.94 2.06-2.06.94zm-11 1L8.5 8.5l.94-2.06 2.06-.94-2.06-.94L8.5 2.5l-.94 2.06-2.06.94zm10 10l.94 2.06.94-2.06 2.06-.94-2.06-.94-.94-2.06-.94 2.06-2.06.94z\"/><path d=\"M17.41 7.96l-1.37-1.37c-.4-.4-.92-.59-1.43-.59-.52 0-1.04.2-1.43.59L10.3 9.45l-7.72 7.72c-.78.78-.78 2.05 0 2.83L4 21.41c.39.39.9.59 1.41.59.51 0 1.02-.2 1.41-.59l7.78-7.78 2.81-2.81c.8-.78.8-2.07 0-2.86zM5.41 20L4 18.59l7.72-7.72 1.47 1.35L5.41 20z\"/>\n",
              "  </svg>\n",
              "      </button>\n",
              "      \n",
              "  <style>\n",
              "    .colab-df-container {\n",
              "      display:flex;\n",
              "      flex-wrap:wrap;\n",
              "      gap: 12px;\n",
              "    }\n",
              "\n",
              "    .colab-df-convert {\n",
              "      background-color: #E8F0FE;\n",
              "      border: none;\n",
              "      border-radius: 50%;\n",
              "      cursor: pointer;\n",
              "      display: none;\n",
              "      fill: #1967D2;\n",
              "      height: 32px;\n",
              "      padding: 0 0 0 0;\n",
              "      width: 32px;\n",
              "    }\n",
              "\n",
              "    .colab-df-convert:hover {\n",
              "      background-color: #E2EBFA;\n",
              "      box-shadow: 0px 1px 2px rgba(60, 64, 67, 0.3), 0px 1px 3px 1px rgba(60, 64, 67, 0.15);\n",
              "      fill: #174EA6;\n",
              "    }\n",
              "\n",
              "    [theme=dark] .colab-df-convert {\n",
              "      background-color: #3B4455;\n",
              "      fill: #D2E3FC;\n",
              "    }\n",
              "\n",
              "    [theme=dark] .colab-df-convert:hover {\n",
              "      background-color: #434B5C;\n",
              "      box-shadow: 0px 1px 3px 1px rgba(0, 0, 0, 0.15);\n",
              "      filter: drop-shadow(0px 1px 2px rgba(0, 0, 0, 0.3));\n",
              "      fill: #FFFFFF;\n",
              "    }\n",
              "  </style>\n",
              "\n",
              "      <script>\n",
              "        const buttonEl =\n",
              "          document.querySelector('#df-6b5e82df-392f-474c-a250-05f5ceeb602d button.colab-df-convert');\n",
              "        buttonEl.style.display =\n",
              "          google.colab.kernel.accessAllowed ? 'block' : 'none';\n",
              "\n",
              "        async function convertToInteractive(key) {\n",
              "          const element = document.querySelector('#df-6b5e82df-392f-474c-a250-05f5ceeb602d');\n",
              "          const dataTable =\n",
              "            await google.colab.kernel.invokeFunction('convertToInteractive',\n",
              "                                                     [key], {});\n",
              "          if (!dataTable) return;\n",
              "\n",
              "          const docLinkHtml = 'Like what you see? Visit the ' +\n",
              "            '<a target=\"_blank\" href=https://colab.research.google.com/notebooks/data_table.ipynb>data table notebook</a>'\n",
              "            + ' to learn more about interactive tables.';\n",
              "          element.innerHTML = '';\n",
              "          dataTable['output_type'] = 'display_data';\n",
              "          await google.colab.output.renderOutput(dataTable, element);\n",
              "          const docLink = document.createElement('div');\n",
              "          docLink.innerHTML = docLinkHtml;\n",
              "          element.appendChild(docLink);\n",
              "        }\n",
              "      </script>\n",
              "    </div>\n",
              "  </div>\n",
              "  "
            ],
            "text/plain": [
              "    ClaimID  ... claim_type\n",
              "0  MIS_2952  ...          0\n",
              "1  MIS_2951  ...          0\n",
              "2  FAT_1503  ...          0\n",
              "3  MIS_2946  ...          2\n",
              "4  MIS_2942  ...          1\n",
              "\n",
              "[5 rows x 13 columns]"
            ]
          },
          "metadata": {},
          "execution_count": 5
        }
      ]
    },
    {
      "cell_type": "code",
      "source": [
        "true_set =full_dataset[full_dataset['normalized_label']=='True']\n",
        "false_set =full_dataset[full_dataset['normalized_label']=='False']\n",
        "partly_false_set =full_dataset[full_dataset['normalized_label']=='Partly-false']\n",
        "sarcasm_set =full_dataset[full_dataset['normalized_label']=='Sarcasm']"
      ],
      "metadata": {
        "id": "IjdioJJWglMb"
      },
      "execution_count": null,
      "outputs": []
    },
    {
      "cell_type": "code",
      "source": [
        "sns.countplot(x='normalized_label', data = full_dataset, palette = 'mako',\n",
        "              saturation = 1)\n",
        "sns.despine()\n",
        "plt.title('Class Distribution')"
      ],
      "metadata": {
        "colab": {
          "base_uri": "https://localhost:8080/",
          "height": 313
        },
        "id": "rrAIqM90gwpX",
        "outputId": "27c8a232-82fb-41fd-c6ce-f565eee5551a"
      },
      "execution_count": null,
      "outputs": [
        {
          "output_type": "execute_result",
          "data": {
            "text/plain": [
              "Text(0.5, 1.0, 'Class Distribution')"
            ]
          },
          "metadata": {},
          "execution_count": 7
        },
        {
          "output_type": "display_data",
          "data": {
            "image/png": "[encoded data removed]",
            "text/plain": [
              "<Figure size 432x288 with 1 Axes>"
            ]
          },
          "metadata": {
            "needs_background": "light"
          }
        }
      ]
    },
    {
      "cell_type": "code",
      "source": [
        "print(\"The number of true claims: \", len(true_set))\n",
        "print(\"The number of false claims \", len(false_set))\n",
        "print(\"The number of partly false claims \", len(partly_false_set))\n",
        "print(\"The number of sarcasm claims \", len(sarcasm_set))\n"
      ],
      "metadata": {
        "colab": {
          "base_uri": "https://localhost:8080/"
        },
        "id": "EFIh2X_vlu8n",
        "outputId": "2c8119b6-26ab-49c5-f7d4-edca417d3c3d"
      },
      "execution_count": null,
      "outputs": [
        {
          "output_type": "stream",
          "name": "stdout",
          "text": [
            "The number of true claims:  198\n",
            "The number of false claims  4037\n",
            "The number of partly false claims  1891\n",
            "The number of sarcasm claims  90\n"
          ]
        }
      ]
    },
    {
      "cell_type": "code",
      "source": [
        "# Importing the dataset\n",
        "full_dataset = pd.read_csv('/content/drive/MyDrive/AraFacts-master/Dataset/DZNLP.csv')"
      ],
      "metadata": {
        "id": "yXaCaIg1lSUL"
      },
      "execution_count": null,
      "outputs": []
    },
    {
      "cell_type": "code",
      "source": [
        "print(\"Number of data points: \", len(full_dataset))\n",
        "full_dataset.head(5)"
      ],
      "metadata": {
        "colab": {
          "base_uri": "https://localhost:8080/",
          "height": 669
        },
        "id": "HZBk3BZHna2Z",
        "outputId": "1a53d706-1500-4a27-ca1e-570c576fedfd"
      },
      "execution_count": null,
      "outputs": [
        {
          "output_type": "stream",
          "name": "stdout",
          "text": [
            "Number of data points:  7822\n"
          ]
        },
        {
          "output_type": "execute_result",
          "data": {
            "text/html": [
              "\n",
              "  <div id=\"df-8fc76cfd-76dd-4f8c-8280-ee918760f2e7\">\n",
              "    <div class=\"colab-df-container\">\n",
              "      <div>\n",
              "<style scoped>\n",
              "    .dataframe tbody tr th:only-of-type {\n",
              "        vertical-align: middle;\n",
              "    }\n",
              "\n",
              "    .dataframe tbody tr th {\n",
              "        vertical-align: top;\n",
              "    }\n",
              "\n",
              "    .dataframe thead th {\n",
              "        text-align: right;\n",
              "    }\n",
              "</style>\n",
              "<table border=\"1\" class=\"dataframe\">\n",
              "  <thead>\n",
              "    <tr style=\"text-align: right;\">\n",
              "      <th></th>\n",
              "      <th>Sentences</th>\n",
              "      <th>Propaganda (Optional)</th>\n",
              "      <th>Fake/Legit</th>\n",
              "      <th>Sentiment</th>\n",
              "      <th>Bots (Optional)</th>\n",
              "      <th>Topic (Domain)</th>\n",
              "      <th>Source</th>\n",
              "      <th>Why Fake? (Optional)</th>\n",
              "      <th>MSA or ALG dialects</th>\n",
              "      <th>reactions</th>\n",
              "      <th>likes</th>\n",
              "      <th>ahah</th>\n",
              "      <th>love</th>\n",
              "      <th>wow</th>\n",
              "      <th>sigh</th>\n",
              "      <th>grrr</th>\n",
              "      <th>comments</th>\n",
              "      <th>post_id</th>\n",
              "      <th>Unnamed: 18</th>\n",
              "    </tr>\n",
              "  </thead>\n",
              "  <tbody>\n",
              "    <tr>\n",
              "      <th>0</th>\n",
              "      <td>In this Column, insert the fake and legit sent...</td>\n",
              "      <td>If the sentence collected can be categorized a...</td>\n",
              "      <td>Select a label for the sentence after doing yo...</td>\n",
              "      <td>Categorize the sentence as “positive”, “negati...</td>\n",
              "      <td>In case of Tweets, is the sentence posted by a...</td>\n",
              "      <td>Select the main domain/ topic of the sentence</td>\n",
              "      <td>Indicate here the source URL of the sentence</td>\n",
              "      <td>If you selected the fake category, you can ind...</td>\n",
              "      <td>NaN</td>\n",
              "      <td>NaN</td>\n",
              "      <td>NaN</td>\n",
              "      <td>NaN</td>\n",
              "      <td>NaN</td>\n",
              "      <td>NaN</td>\n",
              "      <td>NaN</td>\n",
              "      <td>NaN</td>\n",
              "      <td>NaN</td>\n",
              "      <td>NaN</td>\n",
              "      <td>NaN</td>\n",
              "    </tr>\n",
              "    <tr>\n",
              "      <th>1</th>\n",
              "      <td>الصفحة المنسوبة للمدعو زكي أيوب نشرت اليوم مقا...</td>\n",
              "      <td>No</td>\n",
              "      <td>Fake (Lie)</td>\n",
              "      <td>Neutral</td>\n",
              "      <td>No</td>\n",
              "      <td>Sports</td>\n",
              "      <td>https://web.facebook.com/FakenewsDZ/posts/1173...</td>\n",
              "      <td>the link of the photo:https://www.street-tease...</td>\n",
              "      <td>MSA</td>\n",
              "      <td>983</td>\n",
              "      <td>834</td>\n",
              "      <td>62</td>\n",
              "      <td>81</td>\n",
              "      <td>4</td>\n",
              "      <td>1</td>\n",
              "      <td>1</td>\n",
              "      <td>133</td>\n",
              "      <td>1.173138e+15</td>\n",
              "      <td>NaN</td>\n",
              "    </tr>\n",
              "    <tr>\n",
              "      <th>2</th>\n",
              "      <td>لعب الدر...شبيه الفنان صالح اوغروت من فلسطين ا...</td>\n",
              "      <td>No</td>\n",
              "      <td>Fake (Lie)</td>\n",
              "      <td>Neutral</td>\n",
              "      <td>No</td>\n",
              "      <td>Politics</td>\n",
              "      <td>https://web.facebook.com/FakenewsDZ/posts/1173...</td>\n",
              "      <td>NaN</td>\n",
              "      <td>ALG</td>\n",
              "      <td>2.7K</td>\n",
              "      <td>1.2K</td>\n",
              "      <td>1.3K</td>\n",
              "      <td>73</td>\n",
              "      <td>26</td>\n",
              "      <td>12</td>\n",
              "      <td>8</td>\n",
              "      <td>232</td>\n",
              "      <td>1.173086e+15</td>\n",
              "      <td>NaN</td>\n",
              "    </tr>\n",
              "    <tr>\n",
              "      <th>3</th>\n",
              "      <td>وهران.. كاميرا مراقبة ترصد لحظات اعتداء على شا...</td>\n",
              "      <td>No</td>\n",
              "      <td>Fake (Lie)</td>\n",
              "      <td>Negative</td>\n",
              "      <td>No</td>\n",
              "      <td>NaN</td>\n",
              "      <td>https://web.facebook.com/FakenewsDZ/posts/1173...</td>\n",
              "      <td>الفيديو المنتشر لاعتداء على شخص لسرقة هاتفه هو...</td>\n",
              "      <td>MSA</td>\n",
              "      <td>1.3K</td>\n",
              "      <td>1.1K</td>\n",
              "      <td>16</td>\n",
              "      <td>119</td>\n",
              "      <td>31</td>\n",
              "      <td>4</td>\n",
              "      <td>3</td>\n",
              "      <td>110</td>\n",
              "      <td>1.173013e+15</td>\n",
              "      <td>NaN</td>\n",
              "    </tr>\n",
              "    <tr>\n",
              "      <th>4</th>\n",
              "      <td>صورة المجاهدة جميلة بوحيرد مع الرئيس الفرنسي</td>\n",
              "      <td>Yes</td>\n",
              "      <td>Fake (Lie)</td>\n",
              "      <td>Negative</td>\n",
              "      <td>No</td>\n",
              "      <td>Politics</td>\n",
              "      <td>https://web.facebook.com/FakenewsDZ/posts/1173...</td>\n",
              "      <td>السيدة مع الرئيس الفرنسي هي أرملة الرئيس التون...</td>\n",
              "      <td>MSA</td>\n",
              "      <td>1.3K</td>\n",
              "      <td>1.1K</td>\n",
              "      <td>109</td>\n",
              "      <td>93</td>\n",
              "      <td>25</td>\n",
              "      <td>6</td>\n",
              "      <td>21</td>\n",
              "      <td>133</td>\n",
              "      <td>1.173000e+15</td>\n",
              "      <td>NaN</td>\n",
              "    </tr>\n",
              "  </tbody>\n",
              "</table>\n",
              "</div>\n",
              "      <button class=\"colab-df-convert\" onclick=\"convertToInteractive('df-8fc76cfd-76dd-4f8c-8280-ee918760f2e7')\"\n",
              "              title=\"Convert this dataframe to an interactive table.\"\n",
              "              style=\"display:none;\">\n",
              "        \n",
              "  <svg xmlns=\"http://www.w3.org/2000/svg\" height=\"24px\"viewBox=\"0 0 24 24\"\n",
              "       width=\"24px\">\n",
              "    <path d=\"M0 0h24v24H0V0z\" fill=\"none\"/>\n",
              "    <path d=\"M18.56 5.44l.94 2.06.94-2.06 2.06-.94-2.06-.94-.94-2.06-.94 2.06-2.06.94zm-11 1L8.5 8.5l.94-2.06 2.06-.94-2.06-.94L8.5 2.5l-.94 2.06-2.06.94zm10 10l.94 2.06.94-2.06 2.06-.94-2.06-.94-.94-2.06-.94 2.06-2.06.94z\"/><path d=\"M17.41 7.96l-1.37-1.37c-.4-.4-.92-.59-1.43-.59-.52 0-1.04.2-1.43.59L10.3 9.45l-7.72 7.72c-.78.78-.78 2.05 0 2.83L4 21.41c.39.39.9.59 1.41.59.51 0 1.02-.2 1.41-.59l7.78-7.78 2.81-2.81c.8-.78.8-2.07 0-2.86zM5.41 20L4 18.59l7.72-7.72 1.47 1.35L5.41 20z\"/>\n",
              "  </svg>\n",
              "      </button>\n",
              "      \n",
              "  <style>\n",
              "    .colab-df-container {\n",
              "      display:flex;\n",
              "      flex-wrap:wrap;\n",
              "      gap: 12px;\n",
              "    }\n",
              "\n",
              "    .colab-df-convert {\n",
              "      background-color: #E8F0FE;\n",
              "      border: none;\n",
              "      border-radius: 50%;\n",
              "      cursor: pointer;\n",
              "      display: none;\n",
              "      fill: #1967D2;\n",
              "      height: 32px;\n",
              "      padding: 0 0 0 0;\n",
              "      width: 32px;\n",
              "    }\n",
              "\n",
              "    .colab-df-convert:hover {\n",
              "      background-color: #E2EBFA;\n",
              "      box-shadow: 0px 1px 2px rgba(60, 64, 67, 0.3), 0px 1px 3px 1px rgba(60, 64, 67, 0.15);\n",
              "      fill: #174EA6;\n",
              "    }\n",
              "\n",
              "    [theme=dark] .colab-df-convert {\n",
              "      background-color: #3B4455;\n",
              "      fill: #D2E3FC;\n",
              "    }\n",
              "\n",
              "    [theme=dark] .colab-df-convert:hover {\n",
              "      background-color: #434B5C;\n",
              "      box-shadow: 0px 1px 3px 1px rgba(0, 0, 0, 0.15);\n",
              "      filter: drop-shadow(0px 1px 2px rgba(0, 0, 0, 0.3));\n",
              "      fill: #FFFFFF;\n",
              "    }\n",
              "  </style>\n",
              "\n",
              "      <script>\n",
              "        const buttonEl =\n",
              "          document.querySelector('#df-8fc76cfd-76dd-4f8c-8280-ee918760f2e7 button.colab-df-convert');\n",
              "        buttonEl.style.display =\n",
              "          google.colab.kernel.accessAllowed ? 'block' : 'none';\n",
              "\n",
              "        async function convertToInteractive(key) {\n",
              "          const element = document.querySelector('#df-8fc76cfd-76dd-4f8c-8280-ee918760f2e7');\n",
              "          const dataTable =\n",
              "            await google.colab.kernel.invokeFunction('convertToInteractive',\n",
              "                                                     [key], {});\n",
              "          if (!dataTable) return;\n",
              "\n",
              "          const docLinkHtml = 'Like what you see? Visit the ' +\n",
              "            '<a target=\"_blank\" href=https://colab.research.google.com/notebooks/data_table.ipynb>data table notebook</a>'\n",
              "            + ' to learn more about interactive tables.';\n",
              "          element.innerHTML = '';\n",
              "          dataTable['output_type'] = 'display_data';\n",
              "          await google.colab.output.renderOutput(dataTable, element);\n",
              "          const docLink = document.createElement('div');\n",
              "          docLink.innerHTML = docLinkHtml;\n",
              "          element.appendChild(docLink);\n",
              "        }\n",
              "      </script>\n",
              "    </div>\n",
              "  </div>\n",
              "  "
            ],
            "text/plain": [
              "                                           Sentences  ... Unnamed: 18\n",
              "0  In this Column, insert the fake and legit sent...  ...         NaN\n",
              "1  الصفحة المنسوبة للمدعو زكي أيوب نشرت اليوم مقا...  ...         NaN\n",
              "2  لعب الدر...شبيه الفنان صالح اوغروت من فلسطين ا...  ...         NaN\n",
              "3  وهران.. كاميرا مراقبة ترصد لحظات اعتداء على شا...  ...         NaN\n",
              "4      صورة المجاهدة جميلة بوحيرد مع الرئيس الفرنسي   ...         NaN\n",
              "\n",
              "[5 rows x 19 columns]"
            ]
          },
          "metadata": {},
          "execution_count": 24
        }
      ]
    },
    {
      "cell_type": "code",
      "source": [
        "sns.countplot(x='Fake/Legit', data = full_dataset, palette = 'mako',\n",
        "              saturation = 1)\n",
        "sns.despine()\n",
        "plt.title('Class Distribution')"
      ],
      "metadata": {
        "colab": {
          "base_uri": "https://localhost:8080/",
          "height": 312
        },
        "id": "AOV_wuLsmSVf",
        "outputId": "e06ea394-ade9-430f-967f-535a2bbcc21e"
      },
      "execution_count": null,
      "outputs": [
        {
          "output_type": "execute_result",
          "data": {
            "text/plain": [
              "Text(0.5, 1.0, 'Class Distribution')"
            ]
          },
          "metadata": {},
          "execution_count": 23
        },
        {
          "output_type": "display_data",
          "data": {
            "image/png": "[encoded data removed]",
            "text/plain": [
              "<Figure size 432x288 with 1 Axes>"
            ]
          },
          "metadata": {
            "needs_background": "light"
          }
        }
      ]
    },
    {
      "cell_type": "code",
      "source": [
        "true_set =full_dataset[full_dataset['Fake/Legit']=='Legit']\n",
        "\n",
        "true_set =true_set + full_dataset[full_dataset['Fake/Legit']=='Legit (True)']\n",
        "\n",
        "false_set =full_dataset[full_dataset['Fake/Legit']=='Fake (Lie)']\n",
        "false_set =false_set+full_dataset[full_dataset['Fake/Legit']=='Fake']\n",
        "print(\"The number of true claims: \", len(true_set))\n",
        "print(\"The number of false claims \", len(false_set))\n",
        "print(\"total\", len(true_set)+len(false_set))\n",
        "print(\"totaal\", len(full_dataset))"
      ],
      "metadata": {
        "colab": {
          "base_uri": "https://localhost:8080/"
        },
        "id": "SRyM99B-m6vg",
        "outputId": "9085afb8-0861-41f1-b1b2-a66f311b682f"
      },
      "execution_count": null,
      "outputs": [
        {
          "output_type": "stream",
          "name": "stdout",
          "text": [
            "The number of true claims:  6550\n",
            "The number of false claims  1266\n",
            "total 7816\n",
            "totaal 7822\n"
          ]
        }
      ]
    },
    {
      "cell_type": "code",
      "source": [
        "# Importing the dataset\n",
        "#full_dataset = pd.read_csv('/content/drive/MyDrive/AraFacts-master/Dataset/NLP4IF-2021--Fighting the COVID-19 Infodemic - Arabic/covid19_disinfo_binary_arabic_dev.tsv', sep='\\t', header=0)\n",
        "full_dataset = pd.read_csv('/content/drive/MyDrive/AraFacts-master/Dataset/NLP4IF-2021--Fighting the COVID-19 Infodemic - Arabic/covid19_disinfo_binary_arabic_train.tsv', sep='\\t', header=0)"
      ],
      "metadata": {
        "id": "VqUuwcnOpzo_"
      },
      "execution_count": null,
      "outputs": []
    },
    {
      "cell_type": "code",
      "source": [
        "print(\"Number of data points: \", len(full_dataset))\n",
        "full_dataset.head(5)"
      ],
      "metadata": {
        "colab": {
          "base_uri": "https://localhost:8080/",
          "height": 426
        },
        "id": "cUUDRjiDqW6A",
        "outputId": "73b59dbe-3cee-4392-c7fa-6a4a1d38f262"
      },
      "execution_count": null,
      "outputs": [
        {
          "output_type": "stream",
          "name": "stdout",
          "text": [
            "Number of data points:  2536\n"
          ]
        },
        {
          "output_type": "execute_result",
          "data": {
            "text/html": [
              "\n",
              "  <div id=\"df-3f8b8db0-f880-4106-aa7b-aa1f154143ae\">\n",
              "    <div class=\"colab-df-container\">\n",
              "      <div>\n",
              "<style scoped>\n",
              "    .dataframe tbody tr th:only-of-type {\n",
              "        vertical-align: middle;\n",
              "    }\n",
              "\n",
              "    .dataframe tbody tr th {\n",
              "        vertical-align: top;\n",
              "    }\n",
              "\n",
              "    .dataframe thead th {\n",
              "        text-align: right;\n",
              "    }\n",
              "</style>\n",
              "<table border=\"1\" class=\"dataframe\">\n",
              "  <thead>\n",
              "    <tr style=\"text-align: right;\">\n",
              "      <th></th>\n",
              "      <th>tweet_no</th>\n",
              "      <th>text</th>\n",
              "      <th>q1_label</th>\n",
              "      <th>q2_label</th>\n",
              "      <th>q3_label</th>\n",
              "      <th>q4_label</th>\n",
              "      <th>q5_label</th>\n",
              "      <th>q6_label</th>\n",
              "      <th>q7_label</th>\n",
              "    </tr>\n",
              "  </thead>\n",
              "  <tbody>\n",
              "    <tr>\n",
              "      <th>0</th>\n",
              "      <td>1</td>\n",
              "      <td>#عاجل #خادم_الحرمين_الشريفين يصدر أمره بمنع ال...</td>\n",
              "      <td>yes</td>\n",
              "      <td>no</td>\n",
              "      <td>yes</td>\n",
              "      <td>no</td>\n",
              "      <td>no</td>\n",
              "      <td>no</td>\n",
              "      <td>no</td>\n",
              "    </tr>\n",
              "    <tr>\n",
              "      <th>1</th>\n",
              "      <td>2</td>\n",
              "      <td>بعد كل الإجراءات الاحترازية التي تقوم بها #الم...</td>\n",
              "      <td>no</td>\n",
              "      <td>NaN</td>\n",
              "      <td>NaN</td>\n",
              "      <td>NaN</td>\n",
              "      <td>NaN</td>\n",
              "      <td>no</td>\n",
              "      <td>no</td>\n",
              "    </tr>\n",
              "    <tr>\n",
              "      <th>2</th>\n",
              "      <td>3</td>\n",
              "      <td>تصويت 🔴 .  . هل تعتقد أن ( حظر التجول ) الذي ت...</td>\n",
              "      <td>no</td>\n",
              "      <td>NaN</td>\n",
              "      <td>NaN</td>\n",
              "      <td>NaN</td>\n",
              "      <td>NaN</td>\n",
              "      <td>no</td>\n",
              "      <td>no</td>\n",
              "    </tr>\n",
              "    <tr>\n",
              "      <th>3</th>\n",
              "      <td>4</td>\n",
              "      <td>ما هو دي دعواتنا</td>\n",
              "      <td>no</td>\n",
              "      <td>NaN</td>\n",
              "      <td>NaN</td>\n",
              "      <td>NaN</td>\n",
              "      <td>NaN</td>\n",
              "      <td>no</td>\n",
              "      <td>no</td>\n",
              "    </tr>\n",
              "    <tr>\n",
              "      <th>4</th>\n",
              "      <td>5</td>\n",
              "      <td>#الصحة تعلن عن تسجيل (١١٩) حالة إصابة جديدة بف...</td>\n",
              "      <td>yes</td>\n",
              "      <td>no</td>\n",
              "      <td>yes</td>\n",
              "      <td>no</td>\n",
              "      <td>no</td>\n",
              "      <td>no</td>\n",
              "      <td>no</td>\n",
              "    </tr>\n",
              "  </tbody>\n",
              "</table>\n",
              "</div>\n",
              "      <button class=\"colab-df-convert\" onclick=\"convertToInteractive('df-3f8b8db0-f880-4106-aa7b-aa1f154143ae')\"\n",
              "              title=\"Convert this dataframe to an interactive table.\"\n",
              "              style=\"display:none;\">\n",
              "        \n",
              "  <svg xmlns=\"http://www.w3.org/2000/svg\" height=\"24px\"viewBox=\"0 0 24 24\"\n",
              "       width=\"24px\">\n",
              "    <path d=\"M0 0h24v24H0V0z\" fill=\"none\"/>\n",
              "    <path d=\"M18.56 5.44l.94 2.06.94-2.06 2.06-.94-2.06-.94-.94-2.06-.94 2.06-2.06.94zm-11 1L8.5 8.5l.94-2.06 2.06-.94-2.06-.94L8.5 2.5l-.94 2.06-2.06.94zm10 10l.94 2.06.94-2.06 2.06-.94-2.06-.94-.94-2.06-.94 2.06-2.06.94z\"/><path d=\"M17.41 7.96l-1.37-1.37c-.4-.4-.92-.59-1.43-.59-.52 0-1.04.2-1.43.59L10.3 9.45l-7.72 7.72c-.78.78-.78 2.05 0 2.83L4 21.41c.39.39.9.59 1.41.59.51 0 1.02-.2 1.41-.59l7.78-7.78 2.81-2.81c.8-.78.8-2.07 0-2.86zM5.41 20L4 18.59l7.72-7.72 1.47 1.35L5.41 20z\"/>\n",
              "  </svg>\n",
              "      </button>\n",
              "      \n",
              "  <style>\n",
              "    .colab-df-container {\n",
              "      display:flex;\n",
              "      flex-wrap:wrap;\n",
              "      gap: 12px;\n",
              "    }\n",
              "\n",
              "    .colab-df-convert {\n",
              "      background-color: #E8F0FE;\n",
              "      border: none;\n",
              "      border-radius: 50%;\n",
              "      cursor: pointer;\n",
              "      display: none;\n",
              "      fill: #1967D2;\n",
              "      height: 32px;\n",
              "      padding: 0 0 0 0;\n",
              "      width: 32px;\n",
              "    }\n",
              "\n",
              "    .colab-df-convert:hover {\n",
              "      background-color: #E2EBFA;\n",
              "      box-shadow: 0px 1px 2px rgba(60, 64, 67, 0.3), 0px 1px 3px 1px rgba(60, 64, 67, 0.15);\n",
              "      fill: #174EA6;\n",
              "    }\n",
              "\n",
              "    [theme=dark] .colab-df-convert {\n",
              "      background-color: #3B4455;\n",
              "      fill: #D2E3FC;\n",
              "    }\n",
              "\n",
              "    [theme=dark] .colab-df-convert:hover {\n",
              "      background-color: #434B5C;\n",
              "      box-shadow: 0px 1px 3px 1px rgba(0, 0, 0, 0.15);\n",
              "      filter: drop-shadow(0px 1px 2px rgba(0, 0, 0, 0.3));\n",
              "      fill: #FFFFFF;\n",
              "    }\n",
              "  </style>\n",
              "\n",
              "      <script>\n",
              "        const buttonEl =\n",
              "          document.querySelector('#df-3f8b8db0-f880-4106-aa7b-aa1f154143ae button.colab-df-convert');\n",
              "        buttonEl.style.display =\n",
              "          google.colab.kernel.accessAllowed ? 'block' : 'none';\n",
              "\n",
              "        async function convertToInteractive(key) {\n",
              "          const element = document.querySelector('#df-3f8b8db0-f880-4106-aa7b-aa1f154143ae');\n",
              "          const dataTable =\n",
              "            await google.colab.kernel.invokeFunction('convertToInteractive',\n",
              "                                                     [key], {});\n",
              "          if (!dataTable) return;\n",
              "\n",
              "          const docLinkHtml = 'Like what you see? Visit the ' +\n",
              "            '<a target=\"_blank\" href=https://colab.research.google.com/notebooks/data_table.ipynb>data table notebook</a>'\n",
              "            + ' to learn more about interactive tables.';\n",
              "          element.innerHTML = '';\n",
              "          dataTable['output_type'] = 'display_data';\n",
              "          await google.colab.output.renderOutput(dataTable, element);\n",
              "          const docLink = document.createElement('div');\n",
              "          docLink.innerHTML = docLinkHtml;\n",
              "          element.appendChild(docLink);\n",
              "        }\n",
              "      </script>\n",
              "    </div>\n",
              "  </div>\n",
              "  "
            ],
            "text/plain": [
              "   tweet_no  ... q7_label\n",
              "0         1  ...       no\n",
              "1         2  ...       no\n",
              "2         3  ...       no\n",
              "3         4  ...       no\n",
              "4         5  ...       no\n",
              "\n",
              "[5 rows x 9 columns]"
            ]
          },
          "metadata": {},
          "execution_count": 64
        }
      ]
    },
    {
      "cell_type": "code",
      "source": [
        "sns.countplot(x='q1_label', data = full_dataset, palette = 'mako',\n",
        "              saturation = 1)\n",
        "sns.despine()\n",
        "plt.title('Class Distribution')"
      ],
      "metadata": {
        "colab": {
          "base_uri": "https://localhost:8080/",
          "height": 313
        },
        "id": "yG5Hh2AjsUpj",
        "outputId": "82b620ef-09a9-4a95-ddc1-fde4c6b19008"
      },
      "execution_count": null,
      "outputs": [
        {
          "output_type": "execute_result",
          "data": {
            "text/plain": [
              "Text(0.5, 1.0, 'Class Distribution')"
            ]
          },
          "metadata": {},
          "execution_count": 65
        },
        {
          "output_type": "display_data",
          "data": {
            "image/png": "[encoded data removed]",
            "text/plain": [
              "<Figure size 432x288 with 1 Axes>"
            ]
          },
          "metadata": {
            "needs_background": "light"
          }
        }
      ]
    },
    {
      "cell_type": "code",
      "source": [
        "true_set =full_dataset[full_dataset['q1_label']=='yes']\n",
        "false_set =full_dataset[full_dataset['q1_label']=='no']\n",
        "\n",
        "print(\"The number of true claims: \", len(true_set))\n",
        "print(\"The number of false claims \", len(false_set))\n",
        "print(\"total\", len(true_set)+len(false_set))\n",
        "print(\"totaal\", len(full_dataset))"
      ],
      "metadata": {
        "colab": {
          "base_uri": "https://localhost:8080/"
        },
        "id": "h1PIh-4sswqn",
        "outputId": "1527c8f7-ddf7-484b-d4d3-9dd8ec51a98d"
      },
      "execution_count": null,
      "outputs": [
        {
          "output_type": "stream",
          "name": "stdout",
          "text": [
            "The number of true claims:  1926\n",
            "The number of false claims  610\n",
            "total 2536\n",
            "totaal 2536\n"
          ]
        }
      ]
    }
  ]
}